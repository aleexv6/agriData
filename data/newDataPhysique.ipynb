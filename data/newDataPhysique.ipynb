{
 "cells": [
  {
   "cell_type": "code",
   "execution_count": 1,
   "metadata": {},
   "outputs": [],
   "source": [
    "import pandas as pd\n",
    "from seleniumbase import Driver\n",
    "from selenium.webdriver.common.by import By\n",
    "from selenium.webdriver.support.ui import Select\n",
    "import time\n",
    "from datetime import datetime\n",
    "import pymongo\n",
    "import database as db\n",
    "from discord_webhook import DiscordWebhook\n",
    "import config"
   ]
  },
  {
   "cell_type": "code",
   "execution_count": 2,
   "metadata": {},
   "outputs": [],
   "source": [
    "products = ['Mais', 'Ble tendre', 'Ble dur', 'Colza']"
   ]
  },
  {
   "cell_type": "code",
   "execution_count": null,
   "metadata": {},
   "outputs": [],
   "source": [
    "def scrapper(productsList):\n",
    "      dictList = [] #create empty list for stockage\n",
    "      driver = Driver(uc=True, incognito=True, headless=True) #set driver\n",
    "      for product in productsList: #iterates through defined products\n",
    "            cleanProduct = product.lower().replace(' ', '-')\n",
    "            url = f'https://www.terre-net.fr/marche-agricole/{cleanProduct}/physique' #set url \n",
    "            driver.get(url)\n",
    "            driver.wait_for_element(\"#place-graph-selector\") #wait for select element to be present on page\n",
    "            options = driver.find_elements(By.XPATH, \"//select[@id='place-graph-selector']/option\") #find every place options for product\n",
    "            chartsCount = 0 #compteur set to 0\n",
    "            for option in options: #for every options we found : \n",
    "                        select = Select(driver.find_element(By.XPATH, \"//select[@id='place-graph-selector']\")) #Select the select element to change it\n",
    "                        select.select_by_visible_text(option.text) #select the element by text\n",
    "                        time.sleep(3) #small sleep for setting of the Highchart object\n",
    "                        dates = driver.execute_script(f'return Highcharts.charts[{chartsCount}].series[0].data.map(point => point.x)') #get x values from highchart object (dates)\n",
    "                        values = driver.execute_script(f'return Highcharts.charts[{chartsCount}].series[0].data.map(point => point.y)') #get y values from highchart object (price)\n",
    "                        dictList.append({ \n",
    "                              'Date': [date for date in dates if date is not None],\n",
    "                              'Produit': product,\n",
    "                              'Place': option.text,\n",
    "                              'Prix': [value for value in values if value is not None]\n",
    "                        }) #append a dict to the list \n",
    "                        chartsCount += 1 #increment compteur\n",
    "      driver.quit()\n",
    "      return dictList"
   ]
  },
  {
   "cell_type": "code",
   "execution_count": 4,
   "metadata": {},
   "outputs": [],
   "source": [
    "def insert_db(df):\n",
    "    r = 'Nothing in the database, add historical data first'\n",
    "    dbname = db.get_database()\n",
    "    collection_name = dbname[\"new_physique\"]\n",
    "    data = df.to_dict('records')\n",
    "    last_doc = collection_name.find_one(\n",
    "            sort=[( 'Date', pymongo.DESCENDING )]\n",
    "        )\n",
    "    if last_doc is not None:\n",
    "            if not df.empty:\n",
    "                if df['Date'].iloc[0] != last_doc['Date']:\n",
    "                    r = str(collection_name.insert_many(data))\n",
    "                    r = 'AGRI DATA PHYSIQUE : ' + r\n",
    "                else:\n",
    "                    r = 'Document non inséré, doublon date avec le dernier document en base.'\n",
    "            else:\n",
    "                r = 'NO DATA TO IMPORT TODAY, EMPTY DATAFRAME'\n",
    "    return r"
   ]
  },
  {
   "cell_type": "code",
   "execution_count": 5,
   "metadata": {},
   "outputs": [],
   "source": [
    "data = scrapper(products)"
   ]
  },
  {
   "cell_type": "code",
   "execution_count": 8,
   "metadata": {},
   "outputs": [],
   "source": [
    "concatedList = []\n",
    "for item in data:\n",
    "    tmp = pd.DataFrame(item)\n",
    "    tmp['Date'] = pd.to_datetime(tmp['Date'], unit='ms').dt.floor('D')\n",
    "    concatedList.append(tmp)\n",
    "df = pd.concat(concatedList).reset_index(drop=True)\n",
    "df = df[df['Date'] == datetime.today().strftime('%Y-%m-%d')].reset_index(drop=True)\n"
   ]
  },
  {
   "cell_type": "code",
   "execution_count": 13,
   "metadata": {},
   "outputs": [],
   "source": [
    "r = insert_db(df)\n",
    "webhook = DiscordWebhook(url=config.discordLogWebhookUrl, content='**########## NEW PHYSIQUE DATA #########**' + '\\n' + r)\n",
    "response = webhook.execute()"
   ]
  },
  {
   "cell_type": "code",
   "execution_count": null,
   "metadata": {},
   "outputs": [],
   "source": []
  }
 ],
 "metadata": {
  "kernelspec": {
   "display_name": "Python 3",
   "language": "python",
   "name": "python3"
  },
  "language_info": {
   "codemirror_mode": {
    "name": "ipython",
    "version": 3
   },
   "file_extension": ".py",
   "mimetype": "text/x-python",
   "name": "python",
   "nbconvert_exporter": "python",
   "pygments_lexer": "ipython3",
   "version": "3.10.11"
  }
 },
 "nbformat": 4,
 "nbformat_minor": 2
}
