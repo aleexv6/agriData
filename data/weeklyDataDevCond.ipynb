{
 "cells": [
  {
   "cell_type": "code",
   "execution_count": 1,
   "id": "4006b432-c915-460b-b520-54cc5678784c",
   "metadata": {},
   "outputs": [],
   "source": [
    "import pandas as pd\n",
    "import requests\n",
    "import io\n",
    "import re\n",
    "import pymongo\n",
    "import database as db"
   ]
  },
  {
   "cell_type": "code",
   "execution_count": 2,
   "id": "3c6561f6-e73b-49f2-b471-8a2714862db0",
   "metadata": {},
   "outputs": [],
   "source": [
    "WEEK = []\n",
    "with open('week.txt', 'r') as file:\n",
    "    SEMAINE = int(file.read().strip())"
   ]
  },
  {
   "cell_type": "code",
   "execution_count": 3,
   "id": "cc33703a-fff7-481f-b46c-7c6db20ef247",
   "metadata": {},
   "outputs": [],
   "source": [
    "def insert_db(dfFrance):\n",
    "    rFrance = 'Nothing in the database, add historical data first'\n",
    "    dbname = db.get_database()\n",
    "    collection_name_france = dbname[\"dev_cond\"]\n",
    "    dataFrance = dfFrance.to_dict('records')\n",
    "    last_doc_france = collection_name_france.find_one(\n",
    "            sort=[( 'Date', pymongo.DESCENDING )]\n",
    "        )\n",
    "    if last_doc_france is not None:\n",
    "            if not dfFrance.empty:\n",
    "                if dfFrance['Date'].iloc[0] != last_doc_france['Date']:\n",
    "                    rFrance = str(collection_name_france.insert_many(dataFrance))\n",
    "                    rFrance = 'Développement des cultures France : ' + rFrance\n",
    "                    with open('week.txt', 'w') as file:\n",
    "                        file.write(str(SEMAINE+1))\n",
    "                else:\n",
    "                    rFrance = 'DevCond : Document non inséré, doublon date avec le dernier document en base.'\n",
    "            else:\n",
    "                rFrance = 'NO DATA TO IMPORT TODAY, EMPTY DATAFRAME'\n",
    "    return rFrance"
   ]
  },
  {
   "cell_type": "code",
   "execution_count": 4,
   "id": "3ba898ad-0578-4abf-a787-a72cf15d6985",
   "metadata": {},
   "outputs": [],
   "source": [
    "def monday_of_week(year, week):\n",
    "    first_day_of_year = pd.to_datetime(f'{year}-01-01')\n",
    "    first_monday = first_day_of_year - pd.Timedelta(days=first_day_of_year.dayofweek)\n",
    "    monday_of_given_week = first_monday + pd.Timedelta(weeks=week-1)\n",
    "    return monday_of_given_week"
   ]
  },
  {
   "cell_type": "code",
   "execution_count": 5,
   "id": "11c4750c-4a4e-4b90-9c74-b4a930dc5168",
   "metadata": {},
   "outputs": [],
   "source": [
    "cultureMap = {\n",
    "    2: 'Blé tendre',\n",
    "    3: 'Blé dur',\n",
    "    5: 'Maïs grain'\n",
    "}\n",
    "bleMap = {\n",
    "    1: 'Semis',\n",
    "    2: 'Levée',\n",
    "    3: 'Début tallage',\n",
    "    4: 'Épi 1cm',\n",
    "    5: 'Deux noeuds',\n",
    "    6: 'Épiaison', \n",
    "    7: 'Récolte'\n",
    "}\n",
    "maisMap = {\n",
    "    8: 'Semis',\n",
    "    9: 'Levée',\n",
    "    10: '6/8 feuilles visibles',\n",
    "    11: 'Floraison femelle',\n",
    "    12: 'Humidité du grain 50%',\n",
    "    13: 'Récolte'\n",
    "}"
   ]
  },
  {
   "cell_type": "code",
   "execution_count": 6,
   "id": "f0f931ee-0e3f-4786-af3c-0ea5dcb1e6b2",
   "metadata": {},
   "outputs": [],
   "source": [
    "def cereobsReport(type, semaine, id_culture, stade_dev=None):\n",
    "    if type == 'Condition':\n",
    "        url = f\"https://cereobs.franceagrimer.fr/cereobs-sp/api/public/publications/rapportCereobs?semaineObservation={semaine}&idCulture={id_culture}&typePublication=5\"\n",
    "    elif type == 'Developpement':\n",
    "        url = f\"https://cereobs.franceagrimer.fr/cereobs-sp/api/public/publications/rapportCereobs?semaineObservation={semaine}&idCulture={id_culture}&idStadeDev={stade_dev}&typePublication=3\"\n",
    "    else:\n",
    "        print('Wrong type')\n",
    "        return 0\n",
    "    r = requests.get(url)\n",
    "    content_type = r.headers.get('Content-Type')\n",
    "    content_disposition = r.headers.get('Content-Disposition')\n",
    "    if content_disposition:\n",
    "        match = re.search(r'\\d{4}-S\\d{2}', content_disposition) \n",
    "        if match:\n",
    "            WEEK.append(match.group())\n",
    "        else:\n",
    "            print('Something went wrong with Year and Week in file extraction')\n",
    "            return 0            \n",
    "    if content_type == 'application/vnd.ms-excel':\n",
    "        if type == 'Developpement': \n",
    "            df = pd.read_excel(io.BytesIO(r.content), skiprows=3)[:-4]\n",
    "            df = df.rename(columns={df.columns[0]: 'Region', df.columns[1]: 'Actual'})\n",
    "            df = df[['Region', 'Actual']]\n",
    "        elif type == 'Condition':\n",
    "            df = pd.read_excel(io.BytesIO(r.content), skiprows=3)[:-8]\n",
    "            df = df.rename(columns={df.columns[0]: 'Region', df.columns[1]: 'Très mauvaises', df.columns[2]: 'Mauvaises', df.columns[3]: 'Assez bonnes', df.columns[4]: 'Bonnes', df.columns[5]: 'Très bonnes'})\n",
    "            df = df[['Region', 'Très mauvaises', 'Mauvaises', 'Assez bonnes', 'Bonnes', 'Très bonnes']]\n",
    "    else:\n",
    "        df = pd.DataFrame()\n",
    "    return df"
   ]
  },
  {
   "cell_type": "code",
   "execution_count": 8,
   "id": "2826ebc0-1616-4c7a-90b1-581fbb585a79",
   "metadata": {},
   "outputs": [],
   "source": [
    "condMap = []\n",
    "regions = [\"Auvergne-Rhône-Alpes\", \"Provence-Alpes-Côte d'Azur\", \"Grand-Est\", \"Centre-Val de Loire\", \"Nouvelle-Aquitaine\", \"Occitanie\", \"Bretagne\", \"Hauts-de-France\", \"Bourgogne-Franche-Comté\", \"Ile-de-France\", \"Normandie\", \"Pays-de-la-Loire\", \"Moyenne France (1)\"]\n",
    "for idx, da in cultureMap.items():\n",
    "    tmp = cereobsReport('Condition', SEMAINE, idx)\n",
    "    if not tmp.empty:\n",
    "        tmp['Culture'] = da\n",
    "        data = tmp.to_dict(orient='records')\n",
    "    else:\n",
    "        data = []\n",
    "        for region in regions:\n",
    "            dataDict = {'Region': region,'Culture': da, 'Très mauvaises': None, 'Mauvaises': None, 'Assez bonnes': None, 'Bonnes': None, 'Très bonnes': None}\n",
    "            data.append(dataDict)\n",
    "    condMap.append(data)"
   ]
  },
  {
   "cell_type": "code",
   "execution_count": 9,
   "id": "981dcb6b-4d2d-40cd-b625-1701ee658681",
   "metadata": {},
   "outputs": [],
   "source": [
    "dfCond = pd.DataFrame([item for dataset in condMap for item in dataset])\n",
    "dfCond['Region'] = dfCond['Region'].str.replace('Moyenne France (1)', 'Moyenne France')"
   ]
  },
  {
   "cell_type": "code",
   "execution_count": 10,
   "id": "e83f2d6a-d9dc-4f4f-bb14-92320a2745b7",
   "metadata": {},
   "outputs": [],
   "source": [
    "devMap = []\n",
    "for idx, da in cultureMap.items():\n",
    "    if da.startswith('Blé'):\n",
    "        for i, d in bleMap.items():\n",
    "            tmp = cereobsReport('Developpement', SEMAINE, idx, i)\n",
    "            if not tmp.empty:\n",
    "                tmp = tmp.rename(columns={'Actual': d})\n",
    "                tmp['Culture'] = da\n",
    "                data = tmp\n",
    "            else:\n",
    "                data = pd.DataFrame([{'Region': 'Auvergne-Rhône-Alpes', d: None, 'Culture': da}, {'Region': 'Bourgogne-Franche-Comté', d: None, 'Culture': da}, {'Region': 'Bretagne', d: None, 'Culture': da}, {'Region': 'Centre-Val de Loire', d: None, 'Culture': da}, {'Region': 'Grand-Est', d: None, 'Culture': da}, {'Region': 'Hauts-de-France', d: None, 'Culture': da}, {'Region': 'Ile-de-France', d: None, 'Culture': da}, {'Region': 'Normandie', d: None, 'Culture': da}, {'Region': 'Nouvelle-Aquitaine', d: None, 'Culture': da}, {'Region': 'Occitanie', d: None, 'Culture': da}, {'Region': 'Pays-de-la-Loire', d: None, 'Culture': da}, {'Region': \"Provence-Alpes-Côte d'Azur\", d: None, 'Culture': da}, {'Region': 'Moyenne France', d: None, 'Culture': da}])\n",
    "            devMap.append(data)\n",
    "    else:\n",
    "        for i, d in maisMap.items():\n",
    "            tmp = cereobsReport('Developpement', SEMAINE, idx, i)\n",
    "            if not tmp.empty:\n",
    "                tmp = tmp.rename(columns={'Actual': d})\n",
    "                tmp['Culture'] = da\n",
    "                data = tmp\n",
    "            else:\n",
    "                data = pd.DataFrame([{'Region': 'Auvergne-Rhône-Alpes', d: None, 'Culture': da}, {'Region': 'Bourgogne-Franche-Comté', d: None, 'Culture': da}, {'Region': 'Bretagne', d: None, 'Culture': da}, {'Region': 'Centre-Val de Loire', d: None, 'Culture': da}, {'Region': 'Grand-Est', d: None, 'Culture': da}, {'Region': 'Hauts-de-France', d: None, 'Culture': da}, {'Region': 'Ile-de-France', d: None, 'Culture': da}, {'Region': 'Normandie', d: None, 'Culture': da}, {'Region': 'Nouvelle-Aquitaine', d: None, 'Culture': da}, {'Region': 'Occitanie', d: None, 'Culture': da}, {'Region': 'Pays-de-la-Loire', d: None, 'Culture': da}, {'Region': \"Provence-Alpes-Côte d'Azur\", d: None, 'Culture': da}, {'Region': 'Moyenne France', d: None, 'Culture': da}])\n",
    "            devMap.append(data)"
   ]
  },
  {
   "cell_type": "code",
   "execution_count": 11,
   "id": "6d472938-13c3-42c9-90d0-1f2bfdc59243",
   "metadata": {},
   "outputs": [
    {
     "name": "stderr",
     "output_type": "stream",
     "text": [
      "C:\\Users\\alexl\\AppData\\Local\\Temp\\ipykernel_9908\\255756246.py:1: FutureWarning: The behavior of DataFrame concatenation with empty or all-NA entries is deprecated. In a future version, this will no longer exclude empty or all-NA columns when determining the result dtypes. To retain the old behavior, exclude the relevant entries before the concat operation.\n",
      "  concated = pd.concat(devMap).reset_index(drop=True)\n"
     ]
    }
   ],
   "source": [
    "concated = pd.concat(devMap).reset_index(drop=True)\n",
    "group = concated.groupby(['Region', 'Culture']).max()\n",
    "dfDev = group.reset_index()"
   ]
  },
  {
   "cell_type": "code",
   "execution_count": 12,
   "id": "5be89499-725c-4a03-b9e5-651253c63eed",
   "metadata": {},
   "outputs": [],
   "source": [
    "dfDevCond = pd.merge(dfCond, dfDev, on=['Region', 'Culture'], how='outer')"
   ]
  },
  {
   "cell_type": "code",
   "execution_count": 13,
   "id": "0ed0b180-b2cf-403c-95a8-a2710ddb69d8",
   "metadata": {},
   "outputs": [],
   "source": [
    "if len(list(set(WEEK))) == 1:\n",
    "    dfDevCond['Semaine'] = WEEK[0]\n",
    "else:\n",
    "    print('Non-unique weeks in data, check download')\n",
    "dfDevCond['Year'] = int(WEEK[0].split('-')[0])\n",
    "dfDevCond['Week'] = int(WEEK[0].split('-')[1][1:])\n",
    "dfDevCond['Date'] = dfDevCond.apply(lambda row: monday_of_week(row['Year'], row['Week']), axis=1)\n",
    "dfDevCond = dfDevCond.rename(columns={'Épi 1cm': 'Épi 1 cm', 'Deux noeuds': '2 noeuds', 'Region': 'Région'})\n",
    "dfDevCond = dfDevCond[['Culture', 'Région', 'Semaine', 'Semis', 'Levée', '6/8 feuilles visibles', 'Floraison femelle', 'Humidité du grain 50%', 'Récolte', 'Très mauvaises', 'Mauvaises', 'Assez bonnes', 'Bonnes', 'Très bonnes', 'Week', 'Year', 'Date', 'Début tallage', 'Épi 1 cm', '2 noeuds', 'Épiaison']]"
   ]
  },
  {
   "cell_type": "code",
   "execution_count": 15,
   "id": "4a822321-18af-4e87-8172-c11a1d597126",
   "metadata": {},
   "outputs": [
    {
     "name": "stdout",
     "output_type": "stream",
     "text": [
      "Développement des cultures France : <pymongo.results.InsertManyResult object at 0x0000014527FA88E0>\n"
     ]
    }
   ],
   "source": [
    "rFrance = insert_db(dfDevCond)\n",
    "print(rFrance)"
   ]
  },
  {
   "cell_type": "raw",
   "id": "247eeeed-ae10-4ffa-bc52-b7a65a9c90a6",
   "metadata": {},
   "source": [
    "id culture : blé tendre 2, blé dur 3, mais 5\n",
    "type publication : stade dev xlx 3, conditions xls 5\n",
    "semaine observation : +1 chaque semaine. semaine 42 = 856\n",
    "stade dev : Blé dur blé tendre : 1 à 7 et maïs 8 à 13"
   ]
  }
 ],
 "metadata": {
  "kernelspec": {
   "display_name": "Python 3 (ipykernel)",
   "language": "python",
   "name": "python3"
  },
  "language_info": {
   "codemirror_mode": {
    "name": "ipython",
    "version": 3
   },
   "file_extension": ".py",
   "mimetype": "text/x-python",
   "name": "python",
   "nbconvert_exporter": "python",
   "pygments_lexer": "ipython3",
   "version": "3.10.11"
  }
 },
 "nbformat": 4,
 "nbformat_minor": 5
}
