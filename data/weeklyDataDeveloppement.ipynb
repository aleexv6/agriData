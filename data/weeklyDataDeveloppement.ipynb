{
 "cells": [
  {
   "cell_type": "code",
   "execution_count": 16,
   "id": "4006b432-c915-460b-b520-54cc5678784c",
   "metadata": {},
   "outputs": [],
   "source": [
    "import pandas as pd\n",
    "import requests\n",
    "import io\n",
    "import re"
   ]
  },
  {
   "cell_type": "code",
   "execution_count": 56,
   "id": "3c6561f6-e73b-49f2-b471-8a2714862db0",
   "metadata": {},
   "outputs": [],
   "source": [
    "WEEK = []"
   ]
  },
  {
   "cell_type": "code",
   "execution_count": 57,
   "id": "57361c18-b5ef-40cb-8742-b508b82dfe0a",
   "metadata": {},
   "outputs": [],
   "source": [
    "def cereobsReport(type, semaine, id_culture, stade_dev=None):\n",
    "    if type == 'Condition':\n",
    "        url = f\"https://cereobs.franceagrimer.fr/cereobs-sp/api/public/publications/rapportCereobs?semaineObservation={semaine}&idCulture={id_culture}&typePublication=5\"\n",
    "    elif type == 'Developpement':\n",
    "        url = f\"https://cereobs.franceagrimer.fr/cereobs-sp/api/public/publications/rapportCereobs?semaineObservation={semaine}&idCulture={id_culture}&idStadeDev={stade_dev}&typePublication=3\"\n",
    "    else:\n",
    "        print('Wrong type')\n",
    "        return 0\n",
    "    r = requests.get(url)\n",
    "    content_type = r.headers.get('Content-Type')\n",
    "    content_disposition = r.headers.get('Content-Disposition')\n",
    "    if content_disposition:\n",
    "        match = re.search(r'\\d{4}-S\\d{2}', content_disposition) \n",
    "        if match:\n",
    "            WEEK.append(match.group())\n",
    "        else:\n",
    "            print('Something went wrong with Year and Week in file extraction')\n",
    "            return 0            \n",
    "    if content_type == 'application/vnd.ms-excel':\n",
    "        df = pd.read_excel(io.BytesIO(r.content))\n",
    "        if type == 'Developpement': \n",
    "            df = df.rename(columns={df.columns[0]: 'Region', df.columns[1]: 'Actual'})\n",
    "        elif type == 'Condition':\n",
    "            df = df.rename(columns={df.columns[0]: 'Region', df.columns[1]: 'Très mauvaises', df.columns[2]: 'Mauvaises', df.columns[3]: 'Assez bonnes', df.columns[4]: 'Bonnes', df.columns[5]: 'Très bonnes'})\n",
    "            df = df[['Region', 'Très mauvaises', 'Mauvaises', 'Assez bonnes', 'Bonnes', 'Très bonnes']]\n",
    "    else:\n",
    "        df = pd.DataFrame()\n",
    "    return df"
   ]
  },
  {
   "cell_type": "code",
   "execution_count": 79,
   "id": "3ba898ad-0578-4abf-a787-a72cf15d6985",
   "metadata": {},
   "outputs": [],
   "source": [
    "def monday_of_week(year, week):\n",
    "    first_day_of_year = pd.to_datetime(f'{year}-01-01')\n",
    "    first_monday = first_day_of_year - pd.Timedelta(days=first_day_of_year.dayofweek)\n",
    "    monday_of_given_week = first_monday + pd.Timedelta(weeks=week-1)\n",
    "    return monday_of_given_week"
   ]
  },
  {
   "cell_type": "code",
   "execution_count": 66,
   "id": "11c4750c-4a4e-4b90-9c74-b4a930dc5168",
   "metadata": {},
   "outputs": [],
   "source": [
    "cultureMap = {\n",
    "    2: 'Blé tendre',\n",
    "    3: 'Blé dur',\n",
    "    5: 'Maïs grain'\n",
    "}\n",
    "bleMap = {\n",
    "    1: 'Semis',\n",
    "    2: 'Levée',\n",
    "    3: 'Début tallage',\n",
    "    4: 'Épi 1cm',\n",
    "    5: 'Deux noeuds',\n",
    "    6: 'Épiaison', \n",
    "    7: 'Récolte'\n",
    "}\n",
    "maisMap = {\n",
    "    8: 'Semis',\n",
    "    9: 'Levée',\n",
    "    10: '6/8 feuilles visibles',\n",
    "    11: 'Floraison femelle',\n",
    "    12: 'Humidité du grain 50%',\n",
    "    13: 'Récolte'\n",
    "}"
   ]
  },
  {
   "cell_type": "code",
   "execution_count": 67,
   "id": "46bd2c66-929f-4caa-ae55-50f081c1df33",
   "metadata": {},
   "outputs": [],
   "source": [
    "devMap = []\n",
    "for idx, da in cultureMap.items():\n",
    "    tmpMap = {}\n",
    "    tmpMap['Culture'] = da\n",
    "    if da.startswith('Blé'):\n",
    "        for i, d in bleMap.items():\n",
    "            tmp = cereobsReport('Developpement', 857, idx, i)\n",
    "            if not tmp.empty:\n",
    "                data = tmp[tmp['Region'] == 'Moyenne France']['Actual'].item()\n",
    "                tmpMap[d] = data\n",
    "            else:\n",
    "                tmpMap[d] = None\n",
    "    else:\n",
    "        for i, d in maisMap.items():\n",
    "            tmp = cereobsReport('Developpement', 857, idx, i)\n",
    "            if not tmp.empty:\n",
    "                data = tmp[tmp['Region'] == 'Moyenne France']['Actual'].item()\n",
    "                tmpMap[d] = data\n",
    "            else:\n",
    "                tmpMap[d] = None\n",
    "    devMap.append(tmpMap)"
   ]
  },
  {
   "cell_type": "code",
   "execution_count": 68,
   "id": "b1a6bf23-567d-484c-a7e8-7b397e37e166",
   "metadata": {},
   "outputs": [],
   "source": [
    "condMap = []\n",
    "for idx, da in cultureMap.items():\n",
    "    tmpMap = {}\n",
    "    tmpMap['Culture'] = da\n",
    "    tmp = cereobsReport('Condition', 857, idx)\n",
    "    if not tmp.empty:\n",
    "        data = tmp[tmp['Region'] == 'Moyenne France (1)'][['Très mauvaises', 'Mauvaises', 'Assez bonnes', 'Bonnes', 'Très bonnes']].to_dict(orient='records')[0]\n",
    "    else:\n",
    "        data = {'Très mauvaises': None, 'Mauvaises': None, 'Assez bonnes': None, 'Bonnes': None, 'Très bonnes': None}\n",
    "    condMap.append(tmpMap | data)"
   ]
  },
  {
   "cell_type": "code",
   "execution_count": 82,
   "id": "2dda659a-fbd6-48b6-a8e9-1239b2506d95",
   "metadata": {},
   "outputs": [],
   "source": [
    "devDf = pd.DataFrame(devMap)\n",
    "condDf = pd.DataFrame(condMap)\n",
    "df = pd.merge(devDf, condDf, on=['Culture'], how='inner')\n",
    "if len(list(set(WEEK))) == 1:\n",
    "    df['Semaine'] = WEEK[0]\n",
    "else:\n",
    "    print('Non-unique weeks in data, check download')\n",
    "df['Year'] = int(WEEK[0].split('-')[0])\n",
    "df['Week'] = int(WEEK[0].split('-')[1][1:])\n",
    "df['Date'] = df.apply(lambda row: monday_of_week(row['Year'], row['Week']), axis=1)"
   ]
  },
  {
   "cell_type": "raw",
   "id": "247eeeed-ae10-4ffa-bc52-b7a65a9c90a6",
   "metadata": {},
   "source": [
    "id culture : blé tendre 2, blé dur 3, mais 5\n",
    "type publication : stade dev xlx 3, conditions xls 5\n",
    "semaine observation : +1 chaque semaine. semaine 42 = 856\n",
    "stade dev : Blé dur blé tendre : 1 à 7 et maïs 8 à 13"
   ]
  }
 ],
 "metadata": {
  "kernelspec": {
   "display_name": "Python 3 (ipykernel)",
   "language": "python",
   "name": "python3"
  },
  "language_info": {
   "codemirror_mode": {
    "name": "ipython",
    "version": 3
   },
   "file_extension": ".py",
   "mimetype": "text/x-python",
   "name": "python",
   "nbconvert_exporter": "python",
   "pygments_lexer": "ipython3",
   "version": "3.10.11"
  }
 },
 "nbformat": 4,
 "nbformat_minor": 5
}
