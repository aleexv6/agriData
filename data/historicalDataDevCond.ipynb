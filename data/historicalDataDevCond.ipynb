{
 "cells": [
  {
   "cell_type": "code",
   "execution_count": 63,
   "id": "3404b0c6-b6ba-4707-b2f9-c818f06ce971",
   "metadata": {},
   "outputs": [],
   "source": [
    "import pandas as pd\n",
    "import requests\n",
    "import io\n",
    "from datetime import datetime\n",
    "import database as db\n",
    "from pymongo import MongoClient"
   ]
  },
  {
   "cell_type": "code",
   "execution_count": 64,
   "id": "377dcf29-421e-4d11-866c-0cfe01fd5749",
   "metadata": {},
   "outputs": [],
   "source": [
    "def monday_of_week(year, week):\n",
    "    first_day_of_year = pd.to_datetime(f'{year}-01-01')\n",
    "    first_monday = first_day_of_year - pd.Timedelta(days=first_day_of_year.dayofweek)\n",
    "    monday_of_given_week = first_monday + pd.Timedelta(weeks=week-1)\n",
    "    return monday_of_given_week"
   ]
  },
  {
   "cell_type": "code",
   "execution_count": 65,
   "id": "23fe4f60-4232-49ed-a37f-f950092961f6",
   "metadata": {},
   "outputs": [],
   "source": [
    "def find_report():\n",
    "    url_list = ['https://visionet.franceagrimer.fr/Pages/OpenDocument.aspx?fileurl=SeriesChronologiques%2fproductions%20vegetales%2fgrandes%20cultures%2fetats%20des%20cultures%2fSCR-GRC-CEREOBS_M_depuis_2015-A24.xlsx&telechargersanscomptage=oui',\n",
    "                'https://visionet.franceagrimer.fr/Pages/OpenDocument.aspx?fileurl=SeriesChronologiques%2fproductions%20vegetales%2fgrandes%20cultures%2fetats%20des%20cultures%2fSCR-GRC-CEREOBS_CP_depuis_2015-A25.xlsx&telechargersanscomptage=oui']\n",
    "    dfList = []\n",
    "    for url in url_list:\n",
    "        try:\n",
    "            r = requests.get(url)\n",
    "            r.raise_for_status()\n",
    "            tmpFr = pd.read_excel(io.BytesIO(r.content), sheet_name='Données France', skiprows=5)\n",
    "            tmpRegion = pd.read_excel(io.BytesIO(r.content), sheet_name='Données régions', skiprows=5)\n",
    "            tmpFr['Région'] = 'Moyenne France'\n",
    "            dfList.append(tmpFr)\n",
    "            dfList.append(tmpRegion)\n",
    "        except requests.exceptions.RequestException as e:\n",
    "            print(f\"Error downloading the file: {e}\")\n",
    "    df = pd.concat(dfList)\n",
    "    df = df.drop('Unnamed: 0', axis=1)\n",
    "    df['Year'] = df['Semaine'].str.extract(r'(\\d+)-S\\d+')[0].astype(int)\n",
    "    df['Week'] = df['Semaine'].str.extract(r'S(\\d+)')[0].astype(int)\n",
    "    df['Date'] = df.apply(lambda row: monday_of_week(row['Year'], row['Week']), axis=1) \n",
    "    df = df.sort_values(by='Date')\n",
    "    return df"
   ]
  },
  {
   "cell_type": "code",
   "execution_count": 68,
   "id": "023c5ed4-bd7a-42d6-a075-edbf606b74e8",
   "metadata": {},
   "outputs": [],
   "source": [
    "df = find_report()\n",
    "df = df[['Culture', 'Région', 'Semaine', 'Semis', 'Levée', '6/8 feuilles visibles', 'Floraison femelle', 'Humidité du grain 50%', 'Récolte', 'Très mauvaises', 'Mauvaises', 'Assez bonnes', 'Bonnes', 'Très bonnes', 'Week', 'Year', 'Date', 'Début tallage', 'Épi 1 cm', '2 noeuds', 'Épiaison']]"
   ]
  },
  {
   "cell_type": "code",
   "execution_count": 70,
   "id": "bc6cde83-3add-48ba-a4d2-c9c2c8d177ac",
   "metadata": {},
   "outputs": [
    {
     "name": "stdout",
     "output_type": "stream",
     "text": [
      "<pymongo.results.InsertManyResult object at 0x0000021E6FF27040>\n"
     ]
    }
   ],
   "source": [
    "dbname = db.get_database()\n",
    "collection_name = dbname[\"dev_cond\"]\n",
    "last_doc = collection_name.find_one({})\n",
    "if not last_doc:\n",
    "    r = collection_name.insert_many(df.to_dict('records'))\n",
    "print(r)"
   ]
  },
  {
   "cell_type": "code",
   "execution_count": null,
   "id": "c2cca024-dad4-4ed0-af1a-97293e3e5ab8",
   "metadata": {},
   "outputs": [],
   "source": []
  }
 ],
 "metadata": {
  "kernelspec": {
   "display_name": "Python 3 (ipykernel)",
   "language": "python",
   "name": "python3"
  },
  "language_info": {
   "codemirror_mode": {
    "name": "ipython",
    "version": 3
   },
   "file_extension": ".py",
   "mimetype": "text/x-python",
   "name": "python",
   "nbconvert_exporter": "python",
   "pygments_lexer": "ipython3",
   "version": "3.10.11"
  }
 },
 "nbformat": 4,
 "nbformat_minor": 5
}
